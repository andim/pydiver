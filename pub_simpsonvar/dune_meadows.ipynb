{
 "cells": [
  {
   "cell_type": "markdown",
   "id": "a51da1c3",
   "metadata": {},
   "source": [
    "# Comparing interval estimation on a textbook dataset of a dune meadow community\n",
    "\n",
    "This dataset presented in a classical [ecology textbook](https://doi.org/10.1017/CBO9780511525575) contains the abundances of 30 plant species at 20 different sampling sites on the Dutch island of Terschelling.\n",
    "\n",
    "Here we use this dataset (Table 0.1 in the book) to compare the interval estimates provided by Chao's method and our unbiased estimator."
   ]
  },
  {
   "cell_type": "code",
   "execution_count": 1,
   "id": "37b0587f",
   "metadata": {},
   "outputs": [],
   "source": [
    "import numpy as np\n",
    "import pandas as pd\n",
    "import matplotlib.pyplot as plt\n",
    "\n",
    "import pydiver\n",
    "plt.style.use('estimator.mplstyle')"
   ]
  },
  {
   "cell_type": "code",
   "execution_count": 2,
   "id": "25e6525c",
   "metadata": {},
   "outputs": [],
   "source": [
    "df = pd.read_csv('data/dune.csv', index_col=0).T"
   ]
  },
  {
   "cell_type": "code",
   "execution_count": 3,
   "id": "3e95b36b",
   "metadata": {},
   "outputs": [
    {
     "data": {
      "text/plain": [
       "(15, 48)"
      ]
     },
     "execution_count": 3,
     "metadata": {},
     "output_type": "execute_result"
    }
   ],
   "source": [
    "df.sum(axis=0).min(), df.sum(axis=0).max()"
   ]
  },
  {
   "cell_type": "code",
   "execution_count": 4,
   "id": "a24e3034",
   "metadata": {},
   "outputs": [],
   "source": [
    "pcs = pd.DataFrame(dict(pc=df.apply(pydiver.pc),\n",
    "                        varpc=df.apply(lambda x: pydiver.varpc(x, method='unbiased', poisson_bound=True)),\n",
    "                        varpc_chao=df.apply(lambda x: pydiver.varpc(x, method='chao'))))"
   ]
  },
  {
   "cell_type": "code",
   "execution_count": 5,
   "id": "ea800e45",
   "metadata": {},
   "outputs": [
    {
     "data": {
      "text/plain": [
       "Text(0.5, 0, 'Site')"
      ]
     },
     "execution_count": 5,
     "metadata": {},
     "output_type": "execute_result"
    },
    {
     "data": {
      "image/png": "[encoded data removed]",
      "text/plain": [
       "<Figure size 342x240 with 1 Axes>"
      ]
     },
     "metadata": {},
     "output_type": "display_data"
    }
   ],
   "source": [
    "plt.errorbar(pcs.index, pcs['pc'], pcs['varpc']**.5, fmt='o', c='C0', label='Unbiased', zorder=1)\n",
    "plt.errorbar(pcs.index, pcs['pc'], pcs['varpc_chao']**.5, fmt='o', alpha=.6, c='C1', lw=4, label='Chao', zorder=0)\n",
    "plt.legend()\n",
    "plt.yscale('log')\n",
    "plt.xticks(np.arange(1, 21));\n",
    "plt.xlim(0.5, 20.5)\n",
    "plt.ylabel('Simpson index $\\hat p_C$')\n",
    "plt.xlabel('Site')"
   ]
  },
  {
   "cell_type": "markdown",
   "id": "85f8e3da",
   "metadata": {},
   "source": [
    "Interval estimates for the biodiversity at each site were obtained from the unbiased estimator (blue) and the Chao estimator (orange) as $\\hat{p_C} \\pm \\sqrt{\\hat{Var}_{\\mathrm{method}}(\\hat{p_C})}$. The unbiased estimator yields systematically smaller error bars in line with the upwards bias of Chao's observed in simulated data. As a consequence, more of the error bars overlap which we quantify in the following:"
   ]
  },
  {
   "cell_type": "code",
   "execution_count": 6,
   "id": "1c9b4056",
   "metadata": {},
   "outputs": [],
   "source": [
    "score = []\n",
    "for i in range(pcs.shape[0]):\n",
    "    for j in range(i+1, pcs.shape[0]):\n",
    "        z = np.abs(pcs['pc'].iloc[i] - pcs['pc'].iloc[j]) / (pcs['varpc'].iloc[i]**.5  + pcs['varpc'].iloc[j]**.5)\n",
    "        score.append(z)\n",
    "score = np.array(score)"
   ]
  },
  {
   "cell_type": "code",
   "execution_count": 7,
   "id": "4b439177",
   "metadata": {},
   "outputs": [
    {
     "data": {
      "text/plain": [
       "0.4421052631578947"
      ]
     },
     "execution_count": 7,
     "metadata": {},
     "output_type": "execute_result"
    }
   ],
   "source": [
    "(score>1).sum()/len(score)"
   ]
  },
  {
   "cell_type": "code",
   "execution_count": 8,
   "id": "e43f62e9",
   "metadata": {},
   "outputs": [],
   "source": [
    "score_chao = []\n",
    "for i in range(pcs.shape[0]):\n",
    "    for j in range(i+1, pcs.shape[0]):\n",
    "        z = np.abs(pcs['pc'].iloc[i] - pcs['pc'].iloc[j]) / (pcs['varpc_chao'].iloc[i]**.5  + pcs['varpc_chao'].iloc[j]**.5)\n",
    "        score_chao.append(z)\n",
    "score_chao = np.array(score_chao)"
   ]
  },
  {
   "cell_type": "code",
   "execution_count": 9,
   "id": "d6f19ffa",
   "metadata": {},
   "outputs": [
    {
     "data": {
      "text/plain": [
       "0.2894736842105263"
      ]
     },
     "execution_count": 9,
     "metadata": {},
     "output_type": "execute_result"
    }
   ],
   "source": [
    "(score_chao>1).sum()/len(score_chao)"
   ]
  }
 ],
 "metadata": {
  "kernelspec": {
   "display_name": "Python 3 (ipykernel)",
   "language": "python",
   "name": "python3"
  },
  "language_info": {
   "codemirror_mode": {
    "name": "ipython",
    "version": 3
   },
   "file_extension": ".py",
   "mimetype": "text/x-python",
   "name": "python",
   "nbconvert_exporter": "python",
   "pygments_lexer": "ipython3",
   "version": "3.10.9"
  }
 },
 "nbformat": 4,
 "nbformat_minor": 5
}
