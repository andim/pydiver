{
 "cells": [
  {
   "cell_type": "markdown",
   "id": "2a9774cd",
   "metadata": {},
   "source": [
    "# Quantifying collapse of marine biodiversity in the Eastern Mediterranean sea\n",
    "\n",
    "Here we use data from [Albano et al.](https://doi.org/10.1098/rspb.2020.2469) to illustrate the problem of uncertainty quantification in biodiversity measurement. In this study, the diversity of sampled mollusc species currently alive was compared to those found in surficial dead assemblages to assess how global warming changes species distributions.\n",
    "\n",
    "We find that the loss of biodiversity is statistically significant. Our rigorous statistical approach supports the findings of the original study, not just in aggregate but at each individual site.\n",
    "\n",
    "The data on molluscs found on hard substrates is used for illustration purposes, and included in the `data` folder for completeness. Full data on other sampling areas is available on [Dryad](https://datadryad.org/stash/dataset/doi:10.5061/dryad.pnvx0k6kk) under a cc0 license."
   ]
  },
  {
   "cell_type": "code",
   "execution_count": 1,
   "id": "df3e364a",
   "metadata": {},
   "outputs": [],
   "source": [
    "import numpy as np\n",
    "import pandas as pd\n",
    "import matplotlib.pyplot as plt\n",
    "\n",
    "from pydiver import *\n",
    "\n",
    "plt.style.use('estimator.mplstyle')"
   ]
  },
  {
   "cell_type": "code",
   "execution_count": 2,
   "id": "23ba7cc1",
   "metadata": {},
   "outputs": [
    {
     "data": {
      "text/html": [
       "<div>\n",
       "<style scoped>\n",
       "    .dataframe tbody tr th:only-of-type {\n",
       "        vertical-align: middle;\n",
       "    }\n",
       "\n",
       "    .dataframe tbody tr th {\n",
       "        vertical-align: top;\n",
       "    }\n",
       "\n",
       "    .dataframe thead th {\n",
       "        text-align: right;\n",
       "    }\n",
       "</style>\n",
       "<table border=\"1\" class=\"dataframe\">\n",
       "  <thead>\n",
       "    <tr style=\"text-align: right;\">\n",
       "      <th></th>\n",
       "      <th>Code</th>\n",
       "      <th>Class</th>\n",
       "      <th>Family</th>\n",
       "      <th>Genus</th>\n",
       "      <th>Species</th>\n",
       "      <th>Alien</th>\n",
       "      <th>Ash_12_L</th>\n",
       "      <th>Ash_25_L</th>\n",
       "      <th>Akh_12_L</th>\n",
       "      <th>Akh_20_L</th>\n",
       "      <th>Ash_12_D</th>\n",
       "      <th>Ash_25_D</th>\n",
       "      <th>Akh_12_D</th>\n",
       "      <th>Akh_20_D</th>\n",
       "    </tr>\n",
       "  </thead>\n",
       "  <tbody>\n",
       "    <tr>\n",
       "      <th>1</th>\n",
       "      <td>B002</td>\n",
       "      <td>Bivalvia</td>\n",
       "      <td>Donacidae</td>\n",
       "      <td>Donax</td>\n",
       "      <td>semistriatus</td>\n",
       "      <td>No</td>\n",
       "      <td>0</td>\n",
       "      <td>0</td>\n",
       "      <td>0</td>\n",
       "      <td>0</td>\n",
       "      <td>22</td>\n",
       "      <td>6</td>\n",
       "      <td>0</td>\n",
       "      <td>1</td>\n",
       "    </tr>\n",
       "    <tr>\n",
       "      <th>2</th>\n",
       "      <td>B004</td>\n",
       "      <td>Bivalvia</td>\n",
       "      <td>Corbulidae</td>\n",
       "      <td>Corbula</td>\n",
       "      <td>gibba</td>\n",
       "      <td>No</td>\n",
       "      <td>0</td>\n",
       "      <td>2</td>\n",
       "      <td>0</td>\n",
       "      <td>0</td>\n",
       "      <td>3</td>\n",
       "      <td>114</td>\n",
       "      <td>0</td>\n",
       "      <td>3</td>\n",
       "    </tr>\n",
       "    <tr>\n",
       "      <th>3</th>\n",
       "      <td>B005</td>\n",
       "      <td>Bivalvia</td>\n",
       "      <td>Semelidae</td>\n",
       "      <td>Abra</td>\n",
       "      <td>alba</td>\n",
       "      <td>No</td>\n",
       "      <td>19</td>\n",
       "      <td>116</td>\n",
       "      <td>0</td>\n",
       "      <td>14</td>\n",
       "      <td>1</td>\n",
       "      <td>22</td>\n",
       "      <td>0</td>\n",
       "      <td>0</td>\n",
       "    </tr>\n",
       "    <tr>\n",
       "      <th>4</th>\n",
       "      <td>B006</td>\n",
       "      <td>Bivalvia</td>\n",
       "      <td>Thraciidae</td>\n",
       "      <td>Thracia</td>\n",
       "      <td>phaseolina</td>\n",
       "      <td>No</td>\n",
       "      <td>0</td>\n",
       "      <td>0</td>\n",
       "      <td>0</td>\n",
       "      <td>0</td>\n",
       "      <td>0</td>\n",
       "      <td>1</td>\n",
       "      <td>0</td>\n",
       "      <td>0</td>\n",
       "    </tr>\n",
       "    <tr>\n",
       "      <th>8</th>\n",
       "      <td>B013</td>\n",
       "      <td>Bivalvia</td>\n",
       "      <td>Veneridae</td>\n",
       "      <td>Dosinia</td>\n",
       "      <td>lupinus</td>\n",
       "      <td>No</td>\n",
       "      <td>0</td>\n",
       "      <td>0</td>\n",
       "      <td>0</td>\n",
       "      <td>0</td>\n",
       "      <td>2</td>\n",
       "      <td>2</td>\n",
       "      <td>0</td>\n",
       "      <td>2</td>\n",
       "    </tr>\n",
       "  </tbody>\n",
       "</table>\n",
       "</div>"
      ],
      "text/plain": [
       "   Code     Class      Family    Genus       Species Alien  Ash_12_L  \\\n",
       "1  B002  Bivalvia   Donacidae    Donax  semistriatus    No         0   \n",
       "2  B004  Bivalvia  Corbulidae  Corbula         gibba    No         0   \n",
       "3  B005  Bivalvia   Semelidae     Abra          alba    No        19   \n",
       "4  B006  Bivalvia  Thraciidae  Thracia    phaseolina    No         0   \n",
       "8  B013  Bivalvia   Veneridae  Dosinia       lupinus    No         0   \n",
       "\n",
       "   Ash_25_L  Akh_12_L  Akh_20_L  Ash_12_D  Ash_25_D  Akh_12_D  Akh_20_D  \n",
       "1         0         0         0        22         6         0         1  \n",
       "2         2         0         0         3       114         0         3  \n",
       "3       116         0        14         1        22         0         0  \n",
       "4         0         0         0         0         1         0         0  \n",
       "8         0         0         0         2         2         0         2  "
      ]
     },
     "execution_count": 2,
     "metadata": {},
     "output_type": "execute_result"
    }
   ],
   "source": [
    "df = pd.read_csv('data/molluscs.csv', index_col=0)\n",
    "# Exclude invasive species\n",
    "df = df[df['Alien']=='No']\n",
    "df.head()"
   ]
  },
  {
   "cell_type": "code",
   "execution_count": 3,
   "id": "3f1f4ce0",
   "metadata": {},
   "outputs": [],
   "source": [
    "dfpc = df.iloc[:, 6:].agg(pc, axis='index')"
   ]
  },
  {
   "cell_type": "code",
   "execution_count": 4,
   "id": "20572c50",
   "metadata": {},
   "outputs": [],
   "source": [
    "dfN = df.iloc[:, 6:].agg(sum, axis='index')"
   ]
  },
  {
   "cell_type": "code",
   "execution_count": 9,
   "id": "de98703e",
   "metadata": {},
   "outputs": [],
   "source": [
    "dfvarpc = df.iloc[:, 6:].agg(lambda x: varpc(x, method='unbiased'), axis='index')"
   ]
  },
  {
   "cell_type": "code",
   "execution_count": 10,
   "id": "8c8cddda",
   "metadata": {},
   "outputs": [],
   "source": [
    "dfvarpc_chao = df.iloc[:, 6:].agg(lambda x: varpc(x, method='chao'), axis='index')"
   ]
  },
  {
   "cell_type": "code",
   "execution_count": 12,
   "id": "43682ad2",
   "metadata": {},
   "outputs": [],
   "source": [
    "dfvarpc_plugin = df.iloc[:, 6:].agg(lambda x: varpc(x, method='plugin'), axis='index')"
   ]
  },
  {
   "cell_type": "code",
   "execution_count": 13,
   "id": "c31b098d",
   "metadata": {},
   "outputs": [
    {
     "data": {
      "text/html": [
       "<div>\n",
       "<style scoped>\n",
       "    .dataframe tbody tr th:only-of-type {\n",
       "        vertical-align: middle;\n",
       "    }\n",
       "\n",
       "    .dataframe tbody tr th {\n",
       "        vertical-align: top;\n",
       "    }\n",
       "\n",
       "    .dataframe thead th {\n",
       "        text-align: right;\n",
       "    }\n",
       "</style>\n",
       "<table border=\"1\" class=\"dataframe\">\n",
       "  <thead>\n",
       "    <tr style=\"text-align: right;\">\n",
       "      <th></th>\n",
       "      <th>Ash_12_L</th>\n",
       "      <th>Ash_25_L</th>\n",
       "      <th>Akh_12_L</th>\n",
       "      <th>Akh_20_L</th>\n",
       "      <th>Ash_12_D</th>\n",
       "      <th>Ash_25_D</th>\n",
       "      <th>Akh_12_D</th>\n",
       "      <th>Akh_20_D</th>\n",
       "    </tr>\n",
       "  </thead>\n",
       "  <tbody>\n",
       "    <tr>\n",
       "      <th>pc</th>\n",
       "      <td>0.160114</td>\n",
       "      <td>0.316039</td>\n",
       "      <td>0.148760</td>\n",
       "      <td>0.183571</td>\n",
       "      <td>0.108314</td>\n",
       "      <td>0.097393</td>\n",
       "      <td>0.112957</td>\n",
       "      <td>0.073451</td>\n",
       "    </tr>\n",
       "    <tr>\n",
       "      <th>varpc</th>\n",
       "      <td>0.000161</td>\n",
       "      <td>0.000018</td>\n",
       "      <td>0.000095</td>\n",
       "      <td>0.000156</td>\n",
       "      <td>0.000048</td>\n",
       "      <td>0.000076</td>\n",
       "      <td>0.000384</td>\n",
       "      <td>0.000044</td>\n",
       "    </tr>\n",
       "    <tr>\n",
       "      <th>stdpc</th>\n",
       "      <td>0.012678</td>\n",
       "      <td>0.004217</td>\n",
       "      <td>0.009760</td>\n",
       "      <td>0.012497</td>\n",
       "      <td>0.006926</td>\n",
       "      <td>0.008728</td>\n",
       "      <td>0.019603</td>\n",
       "      <td>0.006653</td>\n",
       "    </tr>\n",
       "    <tr>\n",
       "      <th>varpc_chao</th>\n",
       "      <td>0.000183</td>\n",
       "      <td>0.000018</td>\n",
       "      <td>0.000111</td>\n",
       "      <td>0.000155</td>\n",
       "      <td>0.000039</td>\n",
       "      <td>0.000078</td>\n",
       "      <td>0.000445</td>\n",
       "      <td>0.000044</td>\n",
       "    </tr>\n",
       "    <tr>\n",
       "      <th>stdpc_chao</th>\n",
       "      <td>0.013544</td>\n",
       "      <td>0.004258</td>\n",
       "      <td>0.010519</td>\n",
       "      <td>0.012451</td>\n",
       "      <td>0.006256</td>\n",
       "      <td>0.008852</td>\n",
       "      <td>0.021086</td>\n",
       "      <td>0.006658</td>\n",
       "    </tr>\n",
       "    <tr>\n",
       "      <th>varpc_plugin</th>\n",
       "      <td>0.000162</td>\n",
       "      <td>0.000018</td>\n",
       "      <td>0.000095</td>\n",
       "      <td>0.000156</td>\n",
       "      <td>0.000049</td>\n",
       "      <td>0.000077</td>\n",
       "      <td>0.000397</td>\n",
       "      <td>0.000044</td>\n",
       "    </tr>\n",
       "    <tr>\n",
       "      <th>stdpc_plugin</th>\n",
       "      <td>0.012719</td>\n",
       "      <td>0.004219</td>\n",
       "      <td>0.009763</td>\n",
       "      <td>0.012484</td>\n",
       "      <td>0.007002</td>\n",
       "      <td>0.008758</td>\n",
       "      <td>0.019927</td>\n",
       "      <td>0.006663</td>\n",
       "    </tr>\n",
       "    <tr>\n",
       "      <th>N</th>\n",
       "      <td>362.000000</td>\n",
       "      <td>4690.000000</td>\n",
       "      <td>720.000000</td>\n",
       "      <td>710.000000</td>\n",
       "      <td>469.000000</td>\n",
       "      <td>457.000000</td>\n",
       "      <td>104.000000</td>\n",
       "      <td>680.000000</td>\n",
       "    </tr>\n",
       "  </tbody>\n",
       "</table>\n",
       "</div>"
      ],
      "text/plain": [
       "                Ash_12_L     Ash_25_L    Akh_12_L    Akh_20_L    Ash_12_D  \\\n",
       "pc              0.160114     0.316039    0.148760    0.183571    0.108314   \n",
       "varpc           0.000161     0.000018    0.000095    0.000156    0.000048   \n",
       "stdpc           0.012678     0.004217    0.009760    0.012497    0.006926   \n",
       "varpc_chao      0.000183     0.000018    0.000111    0.000155    0.000039   \n",
       "stdpc_chao      0.013544     0.004258    0.010519    0.012451    0.006256   \n",
       "varpc_plugin    0.000162     0.000018    0.000095    0.000156    0.000049   \n",
       "stdpc_plugin    0.012719     0.004219    0.009763    0.012484    0.007002   \n",
       "N             362.000000  4690.000000  720.000000  710.000000  469.000000   \n",
       "\n",
       "                Ash_25_D    Akh_12_D    Akh_20_D  \n",
       "pc              0.097393    0.112957    0.073451  \n",
       "varpc           0.000076    0.000384    0.000044  \n",
       "stdpc           0.008728    0.019603    0.006653  \n",
       "varpc_chao      0.000078    0.000445    0.000044  \n",
       "stdpc_chao      0.008852    0.021086    0.006658  \n",
       "varpc_plugin    0.000077    0.000397    0.000044  \n",
       "stdpc_plugin    0.008758    0.019927    0.006663  \n",
       "N             457.000000  104.000000  680.000000  "
      ]
     },
     "execution_count": 13,
     "metadata": {},
     "output_type": "execute_result"
    }
   ],
   "source": [
    "pcs = pd.DataFrame(dict(pc=dfpc,\n",
    "                        varpc=dfvarpc, stdpc=dfvarpc**.5,\n",
    "                        varpc_chao=dfvarpc_chao, stdpc_chao=dfvarpc_chao**.5,\n",
    "                        varpc_plugin=dfvarpc_plugin, stdpc_plugin=dfvarpc_plugin**.5,\n",
    "                        N=dfN)).transpose()\n",
    "pcs"
   ]
  },
  {
   "cell_type": "markdown",
   "id": "8c9da83f",
   "metadata": {},
   "source": [
    "Note that for this dataset different estimators of variance are similar to each other, in contrast to what we find in other examples."
   ]
  },
  {
   "cell_type": "code",
   "execution_count": 15,
   "id": "005e26ac",
   "metadata": {},
   "outputs": [],
   "source": [
    "sites = pcs.columns.str[:-2].unique()\n",
    "for i, site in enumerate(sites):\n",
    "    pcs_site = pcs[[f'{site}_L', f'{site}_D']]"
   ]
  },
  {
   "cell_type": "code",
   "execution_count": 17,
   "id": "af03830d",
   "metadata": {},
   "outputs": [
    {
     "name": "stderr",
     "output_type": "stream",
     "text": [
      "/tmp/ipykernel_28984/3899530103.py:13: UserWarning: FixedFormatter should only be used together with FixedLocator\n",
      "  ax.set_xticklabels(ax.get_xticklabels(), rotation=90)\n"
     ]
    },
    {
     "data": {
      "image/png": "[encoded data removed]",
      "text/plain": [
       "<Figure size 342x250 with 4 Axes>"
      ]
     },
     "metadata": {},
     "output_type": "display_data"
    }
   ],
   "source": [
    "sites = pcs.columns.str[:-2].unique()\n",
    "fig, axes = plt.subplots(figsize=(3.42, 2.5), ncols=len(sites), sharex=True, sharey=True)\n",
    "ymax = pcs.loc['pc'].max()+0.02\n",
    "for i, site in enumerate(sites):\n",
    "    pcs_site = pcs[[f'{site}_L', f'{site}_D']]\n",
    "    axes[i].errorbar([f'Current', f'Historical'],\n",
    "                     pcs_site.loc['pc'], pcs_site.loc['stdpc'], fmt='o', ms=3)\n",
    "    axes[i].set_ylim(0, ymax)\n",
    "    axes[i].set_xlim(-0.7, 1.7)\n",
    "    axes[i].set_title(f'{site}', fontsize='small')\n",
    "axes[0].set_ylabel('Simpson Index $\\hat p_c$', size='small')\n",
    "for ax in axes:\n",
    "    ax.set_xticklabels(ax.get_xticklabels(), rotation=90)\n",
    "fig.suptitle('Sampling site')\n",
    "fig.tight_layout()"
   ]
  },
  {
   "cell_type": "code",
   "execution_count": 32,
   "id": "0f1f2eeb",
   "metadata": {},
   "outputs": [
    {
     "data": {
      "image/png": "[encoded data removed]",
      "text/plain": [
       "<Figure size 250x225 with 2 Axes>"
      ]
     },
     "metadata": {},
     "output_type": "display_data"
    }
   ],
   "source": [
    "site = 'Ash_12'\n",
    "df_site = df[df[[f'{site}_L', f'{site}_D']].sum(axis=1)>0].copy()\n",
    "df_site['Name'] = df_site['Genus'] + ' ' + df_site['Species']\n",
    "df_site.set_index('Name', inplace=True)\n",
    "fig, axes = plt.subplots(figsize=(2.5, 2.25), nrows=2, sharex=True, sharey=True)\n",
    "df_site['Ash_12_L'].plot(kind='bar', ax=axes[0], color='C0')\n",
    "axes[0].text(1, 1, f\"Current ($N={df_site[f'{site}_L'].sum()}$)\",\n",
    "             transform=axes[0].transAxes, va='top', ha='right')\n",
    "df_site['Ash_12_D'].plot(kind='bar', ax=axes[1], color='C1')\n",
    "axes[1].text(1, 1, f\"Historical ($N={df_site[f'{site}_D'].sum()}$)\",\n",
    "             transform=axes[1].transAxes, va='top', ha='right')\n",
    "axes[0].set_yscale('log')\n",
    "axes[0].set_ylim(0.5e0, 2e2)\n",
    "axes[1].set_xticklabels('')\n",
    "axes[1].set_xlabel(f'Species i ($S \\geq {len(df_site)}$)')\n",
    "for ax in axes:\n",
    "    ax.set_ylabel('Count $n_i$')\n",
    "fig.tight_layout()"
   ]
  },
  {
   "cell_type": "markdown",
   "id": "1b1d76a1",
   "metadata": {},
   "source": [
    "Distributions of sampled mollusc species currently alive (top) and found in surficial dead assemblages (bottom)."
   ]
  },
  {
   "cell_type": "code",
   "execution_count": 30,
   "id": "cfa90c68",
   "metadata": {},
   "outputs": [
    {
     "data": {
      "image/png": "[encoded data removed]",
      "text/plain": [
       "<Figure size 100x225 with 1 Axes>"
      ]
     },
     "metadata": {},
     "output_type": "display_data"
    }
   ],
   "source": [
    "fig, ax = plt.subplots(figsize=(1.0, 2.25), ncols=1, sharex=True, sharey=True)\n",
    "pcs_site = pcs[[f'{site}_L', f'{site}_D']]\n",
    "ax.errorbar([0.0],\n",
    "            [pcs_site.loc['pc'].iloc[0]], [pcs_site.loc['stdpc_chao'].iloc[0]],\n",
    "            color='C0',\n",
    "            fmt='o', ms=3)\n",
    "ax.errorbar([1.0],\n",
    "            [pcs_site.loc['pc'].iloc[1]], [pcs_site.loc['stdpc_chao'].iloc[1]],\n",
    "            color='C1',\n",
    "            fmt='o', ms=3)\n",
    "ax.set_ylabel('Simpson Index $\\hat p_c$')\n",
    "ax.set_xticks([0.0, 1.0])\n",
    "ax.set_xticklabels([f'Current', f'Historical'], rotation=90)\n",
    "ax.set_xlim(-0.5, 1.5)\n",
    "ax.set_ylim(0.08, 0.2)\n",
    "fig.tight_layout()"
   ]
  },
  {
   "cell_type": "markdown",
   "id": "d8c522cf",
   "metadata": {},
   "source": [
    "Simpson Diversity index with error bars calculated using the unbiased estimator."
   ]
  }
 ],
 "metadata": {
  "kernelspec": {
   "display_name": "Python 3 (ipykernel)",
   "language": "python",
   "name": "python3"
  },
  "language_info": {
   "codemirror_mode": {
    "name": "ipython",
    "version": 3
   },
   "file_extension": ".py",
   "mimetype": "text/x-python",
   "name": "python",
   "nbconvert_exporter": "python",
   "pygments_lexer": "ipython3",
   "version": "3.10.9"
  }
 },
 "nbformat": 4,
 "nbformat_minor": 5
}
